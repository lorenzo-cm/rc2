{
 "cells": [
  {
   "cell_type": "code",
   "execution_count": null,
   "metadata": {},
   "outputs": [],
   "source": [
    "import pandas as pd\n",
    "import numpy as np\n",
    "import matplotlib.pyplot as plt\n",
    "import seaborn as sns"
   ]
  },
  {
   "cell_type": "code",
   "execution_count": null,
   "metadata": {},
   "outputs": [],
   "source": [
    "def load_content():\n",
    "    df_content = pd.read_json('data/content.jsonl', lines=True)\n",
    "\n",
    "    # getting the rotten tomatoes ratings\n",
    "    rt_ratings = []\n",
    "    for ratings_list in df_content['Ratings']:\n",
    "        rt_rating = next((item['Value'] for item in ratings_list if item['Source'] == 'Rotten Tomatoes'), None)\n",
    "        if rt_rating:\n",
    "            rt_rating = int(rt_rating[:-1])\n",
    "        rt_ratings.append(rt_rating)\n",
    "    df_content['rtRating'] = rt_ratings\n",
    "\n",
    "    # getting useful columns\n",
    "    data_content = df_content[['ItemId', 'Metascore', 'imdbRating', 'imdbVotes', 'rtRating']]\n",
    "\n",
    "    # replacing string 'N/A' to np.nan and , number separator\n",
    "    data_content = data_content.replace('N/A', np.nan)\n",
    "    data_content['imdbVotes'] = data_content['imdbVotes'].str.replace(',', '')\n",
    "\n",
    "    # converting to numeric data\n",
    "    data_content['Metascore'] = data_content['Metascore'].astype('Float32')\n",
    "    data_content['imdbRating'] = data_content['imdbRating'].astype('float32')\n",
    "    data_content['imdbVotes'] = data_content['imdbVotes'].astype('Float32')\n",
    "    \n",
    "    return data_content"
   ]
  },
  {
   "cell_type": "code",
   "execution_count": null,
   "metadata": {},
   "outputs": [],
   "source": [
    "df_content = load_content()"
   ]
  },
  {
   "cell_type": "code",
   "execution_count": null,
   "metadata": {},
   "outputs": [],
   "source": [
    "for column in df_content.columns:\n",
    "    # Skip non-numeric columns\n",
    "    if df_content[column].dtype.kind in 'biufc':\n",
    "        plt.figure(figsize=(10, 6))\n",
    "        # Create a histogram and a density plot for the column\n",
    "        sns.histplot(df_content[column], kde=True, bins=30)\n",
    "        plt.title(f'Distribution of {column}')\n",
    "        plt.xlabel(column)\n",
    "        plt.ylabel('Frequency')\n",
    "        plt.show()"
   ]
  },
  {
   "cell_type": "code",
   "execution_count": null,
   "metadata": {},
   "outputs": [],
   "source": [
    "means = df_content.mean(numeric_only=True)\n",
    "df_content2 = df_content.fillna(means)"
   ]
  },
  {
   "cell_type": "code",
   "execution_count": null,
   "metadata": {},
   "outputs": [],
   "source": [
    "for column in df_content2.columns:\n",
    "    # Skip non-numeric columns\n",
    "    if df_content2[column].dtype.kind in 'biufc':\n",
    "        plt.figure(figsize=(10, 6))\n",
    "        # Create a histogram and a density plot for the column\n",
    "        sns.histplot(df_content2[column], kde=True, bins=30)\n",
    "        plt.title(f'Distribution of {column}')\n",
    "        plt.xlabel(column)\n",
    "        plt.ylabel('Frequency')\n",
    "        plt.show()"
   ]
  },
  {
   "cell_type": "code",
   "execution_count": null,
   "metadata": {},
   "outputs": [],
   "source": [
    "df_content2.set_index('ItemId')[['Metascore', 'imdbRating', 'imdbVotes', 'rtRating']].to_dict(orient='index')"
   ]
  }
 ],
 "metadata": {
  "kernelspec": {
   "display_name": "Python 3 (ipykernel)",
   "language": "python",
   "name": "python3"
  },
  "language_info": {
   "codemirror_mode": {
    "name": "ipython",
    "version": 3
   },
   "file_extension": ".py",
   "mimetype": "text/x-python",
   "name": "python",
   "nbconvert_exporter": "python",
   "pygments_lexer": "ipython3",
   "version": "3.10.12"
  }
 },
 "nbformat": 4,
 "nbformat_minor": 2
}
