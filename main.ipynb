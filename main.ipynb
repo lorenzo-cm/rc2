{
 "cells": [
  {
   "cell_type": "code",
   "execution_count": 1,
   "metadata": {},
   "outputs": [],
   "source": [
    "import pandas as pd\n",
    "import numpy as np\n",
    "import matplotlib.pyplot as plt\n",
    "import seaborn as sns"
   ]
  },
  {
   "cell_type": "code",
   "execution_count": 2,
   "metadata": {},
   "outputs": [
    {
     "data": {
      "text/plain": [
       "Index(['ItemId', 'Title', 'Year', 'Rated', 'Released', 'Runtime', 'Genre',\n",
       "       'Director', 'Writer', 'Actors', 'Plot', 'Language', 'Country', 'Awards',\n",
       "       'Poster', 'Ratings', 'Metascore', 'imdbRating', 'imdbVotes', 'Type',\n",
       "       'DVD', 'BoxOffice', 'Production', 'Website', 'Response', 'totalSeasons',\n",
       "       'Season', 'Episode', 'seriesID'],\n",
       "      dtype='object')"
      ]
     },
     "execution_count": 2,
     "metadata": {},
     "output_type": "execute_result"
    }
   ],
   "source": [
    "df = pd.read_json('data/content.jsonl', lines=True)\n",
    "df.columns"
   ]
  },
  {
   "cell_type": "code",
   "execution_count": 3,
   "metadata": {},
   "outputs": [
    {
     "data": {
      "text/plain": [
       "278"
      ]
     },
     "execution_count": 3,
     "metadata": {},
     "output_type": "execute_result"
    }
   ],
   "source": [
    "df['imdbVotes'].value_counts().get('N/A')"
   ]
  },
  {
   "cell_type": "code",
   "execution_count": 4,
   "metadata": {},
   "outputs": [],
   "source": [
    "df = df.replace('N/A', np.nan)\n",
    "df['imdbVotes'] = df['imdbVotes'].str.replace(',', '')\n",
    "df['imdbVotes'] = df['imdbVotes'].astype('float32')"
   ]
  },
  {
   "cell_type": "code",
   "execution_count": 5,
   "metadata": {},
   "outputs": [
    {
     "data": {
      "text/plain": [
       "355.0"
      ]
     },
     "execution_count": 5,
     "metadata": {},
     "output_type": "execute_result"
    }
   ],
   "source": [
    "df['imdbVotes'].quantile(0.15)"
   ]
  },
  {
   "cell_type": "code",
   "execution_count": 8,
   "metadata": {},
   "outputs": [],
   "source": [
    "def load_content():\n",
    "    df_content = pd.read_json('data/content.jsonl', lines=True)\n",
    "\n",
    "    # Getting the Rotten Tomatoes ratings\n",
    "    rt_ratings = []\n",
    "    for ratings_list in df_content['Ratings']:\n",
    "        rt_rating = next((item['Value'] for item in ratings_list if item['Source'] == 'Rotten Tomatoes'), None)\n",
    "        if rt_rating:\n",
    "            rt_rating = int(rt_rating[:-1])\n",
    "        rt_ratings.append(rt_rating)\n",
    "    df_content['rtRating'] = rt_ratings\n",
    "\n",
    "    # Getting useful columns\n",
    "    data_content = df_content[['ItemId', 'Metascore', 'imdbRating', 'imdbVotes', 'rtRating', 'Awards']].copy()\n",
    "\n",
    "    # Updating 'Awards' column\n",
    "    data_content['Awards'] = data_content['Awards'].apply(lambda x: 0 if x == 'N/A' else 1)\n",
    "\n",
    "    # Replacing string 'N/A' with np.nan and removing number separators\n",
    "    data_content = data_content.replace('N/A', np.nan)\n",
    "    data_content['imdbVotes'] = data_content['imdbVotes'].str.replace(',', '')\n",
    "\n",
    "    # Converting to numeric data\n",
    "    data_content['Metascore'] = data_content['Metascore'].astype('float32')\n",
    "    data_content['imdbRating'] = data_content['imdbRating'].astype('float32')\n",
    "    data_content['imdbVotes'] = data_content['imdbVotes'].astype('float32')\n",
    "    \n",
    "    # Substitute NaN with mean\n",
    "    quantiles = data_content.quantile(0.15, numeric_only=True)\n",
    "    data_content = data_content.fillna(quantiles)\n",
    "    \n",
    "    # Normalizing imdbRating between 0 and 10\n",
    "    for col in data_content.columns:\n",
    "        if col in ['ItemId', 'Awards']:\n",
    "            continue\n",
    "        min_rating = data_content[col].min()\n",
    "        max_rating = data_content[col].max()\n",
    "        data_content[col] = 0 + ((data_content[col] - min_rating) * (10 - 0)) / (max_rating - min_rating)\n",
    "    \n",
    "    return data_content\n"
   ]
  },
  {
   "cell_type": "code",
   "execution_count": 14,
   "metadata": {},
   "outputs": [
    {
     "data": {
      "text/html": [
       "<div>\n",
       "<style scoped>\n",
       "    .dataframe tbody tr th:only-of-type {\n",
       "        vertical-align: middle;\n",
       "    }\n",
       "\n",
       "    .dataframe tbody tr th {\n",
       "        vertical-align: top;\n",
       "    }\n",
       "\n",
       "    .dataframe thead th {\n",
       "        text-align: right;\n",
       "    }\n",
       "</style>\n",
       "<table border=\"1\" class=\"dataframe\">\n",
       "  <thead>\n",
       "    <tr style=\"text-align: right;\">\n",
       "      <th></th>\n",
       "      <th>ItemId</th>\n",
       "      <th>Metascore</th>\n",
       "      <th>imdbRating</th>\n",
       "      <th>imdbVotes</th>\n",
       "      <th>rtRating</th>\n",
       "      <th>Awards</th>\n",
       "    </tr>\n",
       "  </thead>\n",
       "  <tbody>\n",
       "    <tr>\n",
       "      <th>0</th>\n",
       "      <td>c9f0f895fb</td>\n",
       "      <td>3.737374</td>\n",
       "      <td>5.000000</td>\n",
       "      <td>0.007888</td>\n",
       "      <td>2.9</td>\n",
       "      <td>1</td>\n",
       "    </tr>\n",
       "    <tr>\n",
       "      <th>1</th>\n",
       "      <td>d3d9446802</td>\n",
       "      <td>3.737374</td>\n",
       "      <td>6.555555</td>\n",
       "      <td>0.026473</td>\n",
       "      <td>2.9</td>\n",
       "      <td>0</td>\n",
       "    </tr>\n",
       "    <tr>\n",
       "      <th>2</th>\n",
       "      <td>c20ad4d76f</td>\n",
       "      <td>3.737374</td>\n",
       "      <td>7.222222</td>\n",
       "      <td>0.045541</td>\n",
       "      <td>2.9</td>\n",
       "      <td>0</td>\n",
       "    </tr>\n",
       "    <tr>\n",
       "      <th>3</th>\n",
       "      <td>8e296a067a</td>\n",
       "      <td>3.737374</td>\n",
       "      <td>3.555555</td>\n",
       "      <td>0.000136</td>\n",
       "      <td>2.9</td>\n",
       "      <td>0</td>\n",
       "    </tr>\n",
       "    <tr>\n",
       "      <th>4</th>\n",
       "      <td>54229abfcf</td>\n",
       "      <td>3.737374</td>\n",
       "      <td>6.333333</td>\n",
       "      <td>0.013033</td>\n",
       "      <td>2.9</td>\n",
       "      <td>0</td>\n",
       "    </tr>\n",
       "  </tbody>\n",
       "</table>\n",
       "</div>"
      ],
      "text/plain": [
       "       ItemId  Metascore  imdbRating  imdbVotes  rtRating  Awards\n",
       "0  c9f0f895fb   3.737374    5.000000   0.007888       2.9       1\n",
       "1  d3d9446802   3.737374    6.555555   0.026473       2.9       0\n",
       "2  c20ad4d76f   3.737374    7.222222   0.045541       2.9       0\n",
       "3  8e296a067a   3.737374    3.555555   0.000136       2.9       0\n",
       "4  54229abfcf   3.737374    6.333333   0.013033       2.9       0"
      ]
     },
     "execution_count": 14,
     "metadata": {},
     "output_type": "execute_result"
    }
   ],
   "source": [
    "df_content = load_content()\n",
    "df_content.head()"
   ]
  }
 ],
 "metadata": {
  "kernelspec": {
   "display_name": "Python 3 (ipykernel)",
   "language": "python",
   "name": "python3"
  },
  "language_info": {
   "codemirror_mode": {
    "name": "ipython",
    "version": 3
   },
   "file_extension": ".py",
   "mimetype": "text/x-python",
   "name": "python",
   "nbconvert_exporter": "python",
   "pygments_lexer": "ipython3",
   "version": "3.10.12"
  }
 },
 "nbformat": 4,
 "nbformat_minor": 2
}
