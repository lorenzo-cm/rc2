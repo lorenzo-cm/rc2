{
 "cells": [
  {
   "cell_type": "code",
   "execution_count": 1,
   "metadata": {},
   "outputs": [],
   "source": [
    "import pandas as pd\n",
    "import numpy as np\n",
    "from sklearn.feature_extraction.text import TfidfVectorizer\n",
    "from sklearn.metrics.pairwise import cosine_similarity"
   ]
  },
  {
   "cell_type": "code",
   "execution_count": 2,
   "metadata": {},
   "outputs": [],
   "source": [
    "df_r = pd.read_json('data/ratings.jsonl', lines=True).drop('Timestamp', axis=1)\n",
    "df_c = pd.read_json('data/content.jsonl', lines=True)"
   ]
  },
  {
   "cell_type": "code",
   "execution_count": 3,
   "metadata": {},
   "outputs": [],
   "source": [
    "df_c = df_c[['ItemId', 'Genre', 'Director', 'Actors', 'Plot']]"
   ]
  },
  {
   "cell_type": "code",
   "execution_count": 4,
   "metadata": {},
   "outputs": [
    {
     "data": {
      "text/html": [
       "<div>\n",
       "<style scoped>\n",
       "    .dataframe tbody tr th:only-of-type {\n",
       "        vertical-align: middle;\n",
       "    }\n",
       "\n",
       "    .dataframe tbody tr th {\n",
       "        vertical-align: top;\n",
       "    }\n",
       "\n",
       "    .dataframe thead th {\n",
       "        text-align: right;\n",
       "    }\n",
       "</style>\n",
       "<table border=\"1\" class=\"dataframe\">\n",
       "  <thead>\n",
       "    <tr style=\"text-align: right;\">\n",
       "      <th></th>\n",
       "      <th>ItemId</th>\n",
       "      <th>Genre</th>\n",
       "      <th>Director</th>\n",
       "      <th>Actors</th>\n",
       "      <th>Plot</th>\n",
       "    </tr>\n",
       "  </thead>\n",
       "  <tbody>\n",
       "    <tr>\n",
       "      <th>0</th>\n",
       "      <td>c9f0f895fb</td>\n",
       "      <td>Documentary, Short</td>\n",
       "      <td>William K.L. Dickson</td>\n",
       "      <td>Fred Ott</td>\n",
       "      <td>A man (Edison's assistant) takes a pinch of sn...</td>\n",
       "    </tr>\n",
       "    <tr>\n",
       "      <th>1</th>\n",
       "      <td>d3d9446802</td>\n",
       "      <td>Documentary, Short</td>\n",
       "      <td>Louis Lumière</td>\n",
       "      <td>N/A</td>\n",
       "      <td>A man opens the big gates to the Lumière facto...</td>\n",
       "    </tr>\n",
       "    <tr>\n",
       "      <th>2</th>\n",
       "      <td>c20ad4d76f</td>\n",
       "      <td>Documentary, Short</td>\n",
       "      <td>Auguste Lumière, Louis Lumière</td>\n",
       "      <td>Madeleine Koehler, Marcel Koehler, Mrs. August...</td>\n",
       "      <td>A group of people are standing in a straight l...</td>\n",
       "    </tr>\n",
       "    <tr>\n",
       "      <th>3</th>\n",
       "      <td>8e296a067a</td>\n",
       "      <td>Short, News, Sport</td>\n",
       "      <td>Birt Acres</td>\n",
       "      <td>N/A</td>\n",
       "      <td>Although the content of this film is primitive...</td>\n",
       "    </tr>\n",
       "    <tr>\n",
       "      <th>4</th>\n",
       "      <td>54229abfcf</td>\n",
       "      <td>Short, Horror</td>\n",
       "      <td>Georges Méliès</td>\n",
       "      <td>Jehanne d'Alcy, Jules-Eugène Legris, Georges M...</td>\n",
       "      <td>A bat flies into an ancient castle and transfo...</td>\n",
       "    </tr>\n",
       "  </tbody>\n",
       "</table>\n",
       "</div>"
      ],
      "text/plain": [
       "       ItemId               Genre                        Director  \\\n",
       "0  c9f0f895fb  Documentary, Short            William K.L. Dickson   \n",
       "1  d3d9446802  Documentary, Short                   Louis Lumière   \n",
       "2  c20ad4d76f  Documentary, Short  Auguste Lumière, Louis Lumière   \n",
       "3  8e296a067a  Short, News, Sport                      Birt Acres   \n",
       "4  54229abfcf       Short, Horror                  Georges Méliès   \n",
       "\n",
       "                                              Actors  \\\n",
       "0                                           Fred Ott   \n",
       "1                                                N/A   \n",
       "2  Madeleine Koehler, Marcel Koehler, Mrs. August...   \n",
       "3                                                N/A   \n",
       "4  Jehanne d'Alcy, Jules-Eugène Legris, Georges M...   \n",
       "\n",
       "                                                Plot  \n",
       "0  A man (Edison's assistant) takes a pinch of sn...  \n",
       "1  A man opens the big gates to the Lumière facto...  \n",
       "2  A group of people are standing in a straight l...  \n",
       "3  Although the content of this film is primitive...  \n",
       "4  A bat flies into an ancient castle and transfo...  "
      ]
     },
     "execution_count": 4,
     "metadata": {},
     "output_type": "execute_result"
    }
   ],
   "source": [
    "df_c.head()"
   ]
  },
  {
   "cell_type": "code",
   "execution_count": 5,
   "metadata": {},
   "outputs": [],
   "source": [
    "def process_actors(actors_str):\n",
    "    return [actor.strip() for actor in actors_str.split(',')]\n",
    "\n",
    "lookup_table_item_actors = {item_id: process_actors(actors) for item_id, actors in zip(df_c['ItemId'], df_c['Actors'])}"
   ]
  },
  {
   "cell_type": "code",
   "execution_count": 6,
   "metadata": {},
   "outputs": [
    {
     "data": {
      "text/plain": [
       "['Madeleine Koehler', 'Marcel Koehler', 'Mrs. Auguste Lumiere']"
      ]
     },
     "execution_count": 6,
     "metadata": {},
     "output_type": "execute_result"
    }
   ],
   "source": [
    "lookup_table_item_actors[df_c['ItemId'].loc[2]]"
   ]
  },
  {
   "cell_type": "markdown",
   "metadata": {},
   "source": [
    "### PLOT"
   ]
  },
  {
   "cell_type": "code",
   "execution_count": 7,
   "metadata": {},
   "outputs": [],
   "source": [
    "tfidf_vectorizer = TfidfVectorizer(max_features=10000, ngram_range=(1, 2))\n",
    "tfidf_matrix = tfidf_vectorizer.fit_transform(df_c['Plot'])\n",
    "tfidf_df = pd.DataFrame(tfidf_matrix.toarray(), columns=tfidf_vectorizer.get_feature_names_out())"
   ]
  },
  {
   "cell_type": "code",
   "execution_count": 8,
   "metadata": {},
   "outputs": [],
   "source": [
    "def calc_similarity(tfidf_df, itemId1, itemId2):\n",
    "    line1 = df_c[df_c['ItemId'] == itemId1].index[0]\n",
    "    line2 = df_c[df_c['ItemId'] == itemId2].index[0]\n",
    "    return cosine_similarity(tfidf_df.loc[line1].values.reshape(1, -1), tfidf_df.loc[line2].values.reshape(1, -1))"
   ]
  },
  {
   "cell_type": "code",
   "execution_count": 19,
   "metadata": {},
   "outputs": [],
   "source": [
    "def calc_sim_user_item(userId, itemId):\n",
    "    aux = df_r[df_r['UserId'] == userId]\n",
    "\n",
    "    sims = []\n",
    "    for item_id, rating in zip(aux['ItemId'], aux['Rating']):\n",
    "        sims.append(calc_similarity(tfidf_df, item_id, itemId)[0][0] * rating)\n",
    "\n",
    "    return sum(sims)"
   ]
  }
 ],
 "metadata": {
  "kernelspec": {
   "display_name": "rc2",
   "language": "python",
   "name": "python3"
  },
  "language_info": {
   "codemirror_mode": {
    "name": "ipython",
    "version": 3
   },
   "file_extension": ".py",
   "mimetype": "text/x-python",
   "name": "python",
   "nbconvert_exporter": "python",
   "pygments_lexer": "ipython3",
   "version": "3.10.13"
  }
 },
 "nbformat": 4,
 "nbformat_minor": 2
}
